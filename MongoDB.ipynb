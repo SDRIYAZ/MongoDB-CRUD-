{
 "cells": [
  {
   "cell_type": "markdown",
   "id": "befd64df",
   "metadata": {},
   "source": [
    "# 1.Create a DB "
   ]
  },
  {
   "cell_type": "code",
   "execution_count": 1,
   "id": "16aaf868",
   "metadata": {},
   "outputs": [],
   "source": [
    "import pymongo"
   ]
  },
  {
   "cell_type": "code",
   "execution_count": 16,
   "id": "ecbe370b",
   "metadata": {},
   "outputs": [
    {
     "data": {
      "text/plain": [
       "Database(MongoClient(host=['localhost:27017'], document_class=dict, tz_aware=False, connect=True), 'Riyaz')"
      ]
     },
     "execution_count": 16,
     "metadata": {},
     "output_type": "execute_result"
    }
   ],
   "source": [
    "DEFAULT_CONNECTION_URL=\"mongodb://localhost:27017/\"\n",
    "DB_NAME=\"Riyaz\"\n",
    "\n",
    "#Establishing connection with mongoDB\n",
    "client=pymongo.MongoClient(DEFAULT_CONNECTION_URL)\n",
    "client\n",
    "#create a DB\n",
    "database=client[DB_NAME]\n",
    "database"
   ]
  },
  {
   "cell_type": "code",
   "execution_count": 17,
   "id": "8b50e19d",
   "metadata": {},
   "outputs": [
    {
     "data": {
      "text/plain": [
       "['admin', 'config', 'local']"
      ]
     },
     "execution_count": 17,
     "metadata": {},
     "output_type": "execute_result"
    }
   ],
   "source": [
    " # lets see what the existing list of DBs -\n",
    "client.list_database_names()"
   ]
  },
  {
   "cell_type": "code",
   "execution_count": 18,
   "id": "45750ad5",
   "metadata": {},
   "outputs": [
    {
     "name": "stdout",
     "output_type": "stream",
     "text": [
      "DB: 'Riyaz' not yet present OR no collection is present in the DB\n"
     ]
    }
   ],
   "source": [
    "# let's verify whether we have our database in the list or not \n",
    "# we'll use the following function:-\n",
    "\n",
    "def checkExistence_DB(DB_NAME, client):\n",
    "    \"\"\"It verifies the existence of DB\"\"\"\n",
    "    DBlist = client.list_database_names()\n",
    "    if DB_NAME in DBlist:\n",
    "        print(f\"DB: '{DB_NAME}' exists\")\n",
    "        return True\n",
    "    print(f\"DB: '{DB_NAME}' not yet present OR no collection is present in the DB\")\n",
    "    return False\n",
    "\n",
    "\n",
    "_ = checkExistence_DB(DB_NAME=DB_NAME, client=client)"
   ]
  },
  {
   "cell_type": "markdown",
   "id": "0884e926",
   "metadata": {},
   "source": [
    "# 2. Create a collection"
   ]
  },
  {
   "cell_type": "code",
   "execution_count": 20,
   "id": "12183cc3",
   "metadata": {},
   "outputs": [],
   "source": [
    "COLLECTION_NAME = \"iNeuron_Products\"\n",
    "collection = database[COLLECTION_NAME]"
   ]
  },
  {
   "cell_type": "code",
   "execution_count": 22,
   "id": "f8f6760f",
   "metadata": {},
   "outputs": [
    {
     "name": "stdout",
     "output_type": "stream",
     "text": [
      "Collection:'iNeuron_Products' in Database:'Riyaz' does not exists OR \n",
      "    no documents are present in the collection\n"
     ]
    }
   ],
   "source": [
    "def checkExistence_COL(COLLECTION_NAME, DB_NAME, db):\n",
    "    \"\"\"It verifies the existence of collection name in a database\"\"\"\n",
    "    collection_list = db.list_collection_names()\n",
    "    \n",
    "    if COLLECTION_NAME in collection_list:\n",
    "        print(f\"Collection:'{COLLECTION_NAME}' in Database:'{DB_NAME}' exists\")\n",
    "        return True\n",
    "    \n",
    "    print(f\"Collection:'{COLLECTION_NAME}' in Database:'{DB_NAME}' does not exists OR \\n\\\n",
    "    no documents are present in the collection\")\n",
    "    return False\n",
    "\n",
    "\n",
    "_ = checkExistence_COL(COLLECTION_NAME=COLLECTION_NAME, DB_NAME=DB_NAME, db=database)"
   ]
  },
  {
   "cell_type": "markdown",
   "id": "413c9283",
   "metadata": {},
   "source": [
    "# 3. Insert a record in the collection"
   ]
  },
  {
   "cell_type": "code",
   "execution_count": 23,
   "id": "7fe2cecf",
   "metadata": {},
   "outputs": [
    {
     "data": {
      "text/plain": [
       "<pymongo.results.InsertOneResult at 0x20ca33c7c40>"
      ]
     },
     "execution_count": 23,
     "metadata": {},
     "output_type": "execute_result"
    }
   ],
   "source": [
    "record = {'companyName': 'iNeuron',\n",
    "         'product': 'Affordable AI',\n",
    "         'courseOffered': 'Deep Learning for Computer Vision'}\n",
    "\n",
    "collection.insert_one(record)"
   ]
  },
  {
   "cell_type": "code",
   "execution_count": 33,
   "id": "4e4ef8a8",
   "metadata": {},
   "outputs": [
    {
     "data": {
      "text/plain": [
       "<pymongo.results.InsertOneResult at 0x20ca19b2140>"
      ]
     },
     "execution_count": 33,
     "metadata": {},
     "output_type": "execute_result"
    }
   ],
   "source": [
    "record = {'companyName': 'iNeuron',\n",
    "         'product': 'Affordable AI',\n",
    "        }\n",
    "\n",
    "collection.insert_one(record)"
   ]
  },
  {
   "cell_type": "code",
   "execution_count": 27,
   "id": "f3fb7e00",
   "metadata": {},
   "outputs": [
    {
     "name": "stdout",
     "output_type": "stream",
     "text": [
      "Collection:'iNeuron_Products' in Database:'Riyaz' exists\n"
     ]
    }
   ],
   "source": [
    " _= checkExistence_COL(COLLECTION_NAME=COLLECTION_NAME, DB_NAME=DB_NAME, db=database)"
   ]
  },
  {
   "cell_type": "code",
   "execution_count": 28,
   "id": "5210ad1c",
   "metadata": {},
   "outputs": [
    {
     "name": "stdout",
     "output_type": "stream",
     "text": [
      "DB: 'Riyaz' exists\n"
     ]
    }
   ],
   "source": [
    "# Verify DATABASE\n",
    "_ = checkExistence_DB(DB_NAME=DB_NAME, client=client)"
   ]
  },
  {
   "cell_type": "code",
   "execution_count": 30,
   "id": "955612d1",
   "metadata": {},
   "outputs": [
    {
     "name": "stdout",
     "output_type": "stream",
     "text": [
      "Collection:'iNeuron_Products' in Database:'Riyaz' exists\n"
     ]
    }
   ],
   "source": [
    "# Verify COLLECTION\n",
    "_ = checkExistence_COL(COLLECTION_NAME=COLLECTION_NAME, DB_NAME=DB_NAME, db=database)"
   ]
  },
  {
   "cell_type": "markdown",
   "id": "4cdf9b8c",
   "metadata": {},
   "source": [
    "#  4.Insert multiple records"
   ]
  },
  {
   "cell_type": "code",
   "execution_count": 31,
   "id": "a1bbe117",
   "metadata": {},
   "outputs": [],
   "source": [
    "\n",
    "list_of_records = [\n",
    "    {'companyName': 'iNeuron',\n",
    "     'product': 'Affordable AI',\n",
    "     'courseOffered': 'Machine Learning with Deployment'},\n",
    "    \n",
    "    {'companyName': 'iNeuron',\n",
    "     'product': 'Affordable AI',\n",
    "     'courseOffered': 'Deep Learning for NLP and Computer vision'},\n",
    "    \n",
    "    {'companyName': 'iNeuron',\n",
    "     'product': 'Master Program',\n",
    "     'courseOffered': 'Data Science Masters Program'}\n",
    "]\n",
    "\n",
    "rec = collection.insert_many(list_of_records)"
   ]
  },
  {
   "cell_type": "code",
   "execution_count": 36,
   "id": "a11c9f04",
   "metadata": {},
   "outputs": [],
   "source": [
    "list_of_records=[\n",
    "\t{\n",
    "\t\t'color': \"red\",\n",
    "\t\t'value': \"#f00\"\n",
    "\t},\n",
    "\t{\n",
    "\t\t'color': \"green\",\n",
    "\t\t'value': \"#0f0\"\n",
    "\t},\n",
    "\t{\n",
    "\t\t'color': \"blue\",\n",
    "\t\t'value': \"#00f\"\n",
    "\t},\n",
    "\t{\n",
    "\t\t'color': \"cyan\",\n",
    "\t\t'value': \"#0ff\"\n",
    "\t},\n",
    "\t{\n",
    "\t\t'color': \"magenta\",\n",
    "\t\t'value': \"#f0f\"\n",
    "\t},\n",
    "\t{\n",
    "\t\t'color': \"yellow\",\n",
    "\t\t'value': \"#ff0\"\n",
    "\t},\n",
    "\t{\n",
    "\t\t'color': \"black\",\n",
    "\t\t'value': \"#000\"\n",
    "\t}\n",
    "]\n",
    "rec = collection.insert_many(list_of_records)"
   ]
  },
  {
   "cell_type": "code",
   "execution_count": 38,
   "id": "de907d14",
   "metadata": {},
   "outputs": [
    {
     "name": "stdout",
     "output_type": "stream",
     "text": [
      "0. 631c63c6b8501c1dad503cf4\n",
      "1. 631c63c6b8501c1dad503cf5\n",
      "2. 631c63c6b8501c1dad503cf6\n",
      "3. 631c63c6b8501c1dad503cf7\n",
      "4. 631c63c6b8501c1dad503cf8\n",
      "5. 631c63c6b8501c1dad503cf9\n",
      "6. 631c63c6b8501c1dad503cfa\n"
     ]
    }
   ],
   "source": [
    "# lets print he unique ID that of the record that we have inserted -\n",
    "inserted_IDs = rec.inserted_ids\n",
    "\n",
    "for idx, unique_ids in enumerate(inserted_IDs):\n",
    "    print(f\"{idx}. {unique_ids}\")"
   ]
  },
  {
   "cell_type": "code",
   "execution_count": 40,
   "id": "ff5f663a",
   "metadata": {},
   "outputs": [],
   "source": [
    "#You can override the default unique Id by giving a user defined as shown below -\n",
    "COLLECTION_NAME = \"iNeuron_Faculties\"\n",
    "faculties = database[COLLECTION_NAME]\n",
    "\n",
    "list_of_records_user_defined_id = [\n",
    "    {\"_id\": \"1\",\n",
    "    \"companyName\": \"iNeuron\",\n",
    "    \"Faculty\": \"Sudhanshu Kumar\"},\n",
    "    {\"_id\": \"2\",\n",
    "    \"companyName\": \"iNeuron\",\n",
    "    \"Faculty\": \"Virat Sagar\"},\n",
    "]\n",
    "\n",
    "faculties_record = faculties.insert_many(list_of_records_user_defined_id)"
   ]
  },
  {
   "cell_type": "markdown",
   "id": "de36d032",
   "metadata": {},
   "source": [
    "# 5.Find method in MongoDB"
   ]
  },
  {
   "cell_type": "code",
   "execution_count": 41,
   "id": "6d20b766",
   "metadata": {},
   "outputs": [
    {
     "name": "stdout",
     "output_type": "stream",
     "text": [
      "The first record of collection: \n",
      "iNeuron_Faculties is=\n",
      "{'_id': '1', 'companyName': 'iNeuron', 'Faculty': 'Sudhanshu Kumar'}\n"
     ]
    }
   ],
   "source": [
    "find_first_record = faculties.find_one()\n",
    "\n",
    "print(f\"The first record of collection: \\n{COLLECTION_NAME} is=\\\n",
    "\\n{find_first_record}\")\n"
   ]
  },
  {
   "cell_type": "code",
   "execution_count": 43,
   "id": "3f376daa",
   "metadata": {},
   "outputs": [
    {
     "name": "stdout",
     "output_type": "stream",
     "text": [
      "0: {'_id': '1', 'companyName': 'iNeuron', 'Faculty': 'Sudhanshu Kumar'}\n",
      "1: {'_id': '2', 'companyName': 'iNeuron', 'Faculty': 'Virat Sagar'}\n"
     ]
    }
   ],
   "source": [
    "# find all the record at once present in thr record with all the fields\n",
    "all_record = faculties.find()\n",
    "\n",
    "for idx, record in enumerate(all_record):\n",
    "    print(f\"{idx}: {record}\")"
   ]
  },
  {
   "cell_type": "code",
   "execution_count": 44,
   "id": "a6c276c2",
   "metadata": {},
   "outputs": [
    {
     "name": "stdout",
     "output_type": "stream",
     "text": [
      "0: {'_id': '1', 'Faculty': 'Sudhanshu Kumar'}\n",
      "1: {'_id': '2', 'Faculty': 'Virat Sagar'}\n"
     ]
    }
   ],
   "source": [
    "# find all the record at once present in the record with SPECIFIC fields\n",
    "all_record = faculties.find({}, {\"Faculty\"})\n",
    "\n",
    "for idx, record in enumerate(all_record):\n",
    "    print(f\"{idx}: {record}\")"
   ]
  },
  {
   "cell_type": "code",
   "execution_count": 46,
   "id": "aceb7fd4",
   "metadata": {},
   "outputs": [],
   "source": [
    "all_record = collection.find()"
   ]
  },
  {
   "cell_type": "code",
   "execution_count": 47,
   "id": "8c798490",
   "metadata": {},
   "outputs": [
    {
     "data": {
      "text/plain": [
       "<pymongo.cursor.Cursor at 0x20ca345ff70>"
      ]
     },
     "execution_count": 47,
     "metadata": {},
     "output_type": "execute_result"
    }
   ],
   "source": [
    "all_record"
   ]
  },
  {
   "cell_type": "markdown",
   "id": "30368133",
   "metadata": {},
   "source": [
    "# 6. Query or filter out data in MongoDB"
   ]
  },
  {
   "cell_type": "code",
   "execution_count": 50,
   "id": "28c8f50c",
   "metadata": {},
   "outputs": [
    {
     "name": "stdout",
     "output_type": "stream",
     "text": [
      "{'_id': '1', 'companyName': 'iNeuron', 'Faculty': 'Sudhanshu Kumar'}\n"
     ]
    }
   ],
   "source": [
    "query1 = {\"_id\": '1'}\n",
    "\n",
    "results = faculties.find(query1)\n",
    "for data in results:\n",
    "    print(data)"
   ]
  },
  {
   "cell_type": "code",
   "execution_count": 51,
   "id": "c9283dcf",
   "metadata": {},
   "outputs": [
    {
     "name": "stdout",
     "output_type": "stream",
     "text": [
      "{'_id': '2', 'companyName': 'iNeuron', 'Faculty': 'Virat Sagar'}\n"
     ]
    }
   ],
   "source": [
    "query2 = {\"_id\": {\"$gt\": \"1\"}}\n",
    "\n",
    "results = faculties.find(query2)\n",
    "for data in results:\n",
    "    print(data)"
   ]
  },
  {
   "cell_type": "markdown",
   "id": "9a705afc",
   "metadata": {},
   "source": [
    "# 7. Delete one or many documents in MongoDB"
   ]
  },
  {
   "cell_type": "code",
   "execution_count": 52,
   "id": "c5e1afe9",
   "metadata": {},
   "outputs": [
    {
     "data": {
      "text/plain": [
       "<pymongo.results.InsertManyResult at 0x20ca34608c0>"
      ]
     },
     "execution_count": 52,
     "metadata": {},
     "output_type": "execute_result"
    }
   ],
   "source": [
    "# Lets add some random data in faculties\n",
    "random_data = [\n",
    "    {'_id': '3', 'companyName': 'iNeuron', 'Faculty': 'XYZ'},\n",
    "    {'_id': '4', 'companyName': 'iNeuron', 'Faculty': 'ABC'},\n",
    "    {'_id': '5', 'companyName': 'iNeuron', 'Faculty': 'PQR'},\n",
    "]\n",
    "\n",
    "faculties.insert_many(random_data)"
   ]
  },
  {
   "cell_type": "code",
   "execution_count": 53,
   "id": "a8a7e0b0",
   "metadata": {},
   "outputs": [
    {
     "data": {
      "text/plain": [
       "<pymongo.results.DeleteResult at 0x20ca1982fc0>"
      ]
     },
     "execution_count": 53,
     "metadata": {},
     "output_type": "execute_result"
    }
   ],
   "source": [
    "# Lets delete one document in faculties\n",
    "query_to_delete = {\"Faculty\": \"XYZ\"}\n",
    "\n",
    "faculties.delete_one(query_to_delete)"
   ]
  },
  {
   "cell_type": "code",
   "execution_count": 54,
   "id": "ee681b82",
   "metadata": {},
   "outputs": [
    {
     "data": {
      "text/plain": [
       "<pymongo.results.DeleteResult at 0x20ca3454180>"
      ]
     },
     "execution_count": 54,
     "metadata": {},
     "output_type": "execute_result"
    }
   ],
   "source": [
    "# lets delete multiple record\n",
    "multi_query_to_delete = {\"_id\": {\"$gte\": \"4\"}}\n",
    "\n",
    "faculties.delete_many(multi_query_to_delete)"
   ]
  },
  {
   "cell_type": "code",
   "execution_count": 55,
   "id": "ff7dab5d",
   "metadata": {},
   "outputs": [],
   "source": [
    "#> **NOTE**: In order to delete all the documents present in the collection you can just pass and empty dictionary as shown below: -\n",
    "#```python\n",
    "#faculties.delete_many({})"
   ]
  },
  {
   "cell_type": "markdown",
   "id": "f212e6da",
   "metadata": {},
   "source": [
    "#  8. Drop the entire collection"
   ]
  },
  {
   "cell_type": "code",
   "execution_count": 56,
   "id": "a2b897ab",
   "metadata": {},
   "outputs": [],
   "source": [
    "faculties.drop()"
   ]
  },
  {
   "cell_type": "code",
   "execution_count": 58,
   "id": "46c47c19",
   "metadata": {},
   "outputs": [
    {
     "name": "stdout",
     "output_type": "stream",
     "text": [
      "Collection:'iNeuron_Faculties' in Database:'iNeuron' does not exists OR \n",
      "    no documents are present in the collection\n"
     ]
    }
   ],
   "source": [
    "# Lets verify if the collection exists or not after dropping it\n",
    "COLLECTION_NAME = \"iNeuron_Faculties\"\n",
    "DB_NAME = \"iNeuron\"\n",
    "_ = checkExistence_COL(COLLECTION_NAME=COLLECTION_NAME, DB_NAME=DB_NAME, db=database)"
   ]
  },
  {
   "cell_type": "markdown",
   "id": "43a7356d",
   "metadata": {},
   "source": [
    "# 9.Update"
   ]
  },
  {
   "cell_type": "code",
   "execution_count": 60,
   "id": "2da46482",
   "metadata": {},
   "outputs": [
    {
     "name": "stdout",
     "output_type": "stream",
     "text": [
      "{'_id': ObjectId('631c5e35b8501c1dad503cef'), 'companyName': 'iNeuron', 'product': 'Affordable AI', 'courseOffered': 'Deep Learning for Computer Vision'}\n",
      "\n",
      "{'_id': ObjectId('631c5f39b8501c1dad503cf0'), 'companyName': 'iNeuron', 'product': 'Affordable AI', 'courseOffered': 'Machine Learning with Deployment'}\n",
      "\n",
      "{'_id': ObjectId('631c5f39b8501c1dad503cf1'), 'companyName': 'iNeuron', 'product': 'Affordable AI', 'courseOffered': 'Deep Learning for NLP and Computer vision'}\n",
      "\n",
      "{'_id': ObjectId('631c5f39b8501c1dad503cf2'), 'companyName': 'iNeuron', 'product': 'Master Program', 'courseOffered': 'Data Science Masters Program'}\n",
      "\n",
      "{'_id': ObjectId('631c61e0b8501c1dad503cf3'), 'companyName': 'iNeuron', 'product': 'Affordable AI'}\n",
      "\n",
      "{'_id': ObjectId('631c63c6b8501c1dad503cf4'), 'color': 'red', 'value': '#f00'}\n",
      "\n",
      "{'_id': ObjectId('631c63c6b8501c1dad503cf5'), 'color': 'green', 'value': '#0f0'}\n",
      "\n",
      "{'_id': ObjectId('631c63c6b8501c1dad503cf6'), 'color': 'blue', 'value': '#00f'}\n",
      "\n",
      "{'_id': ObjectId('631c63c6b8501c1dad503cf7'), 'color': 'cyan', 'value': '#0ff'}\n",
      "\n",
      "{'_id': ObjectId('631c63c6b8501c1dad503cf8'), 'color': 'magenta', 'value': '#f0f'}\n",
      "\n",
      "{'_id': ObjectId('631c63c6b8501c1dad503cf9'), 'color': 'yellow', 'value': '#ff0'}\n",
      "\n",
      "{'_id': ObjectId('631c63c6b8501c1dad503cfa'), 'color': 'black', 'value': '#000'}\n",
      "\n"
     ]
    }
   ],
   "source": [
    "COLLECTION_NAME = \"iNeuron_Products\"\n",
    "\n",
    "products = database[COLLECTION_NAME]\n",
    "\n",
    "all_record = products.find()\n",
    "\n",
    "for idx, record in enumerate(all_record):\n",
    "    print(f\"{record}\\n\")"
   ]
  },
  {
   "cell_type": "code",
   "execution_count": 61,
   "id": "f23bae5f",
   "metadata": {},
   "outputs": [],
   "source": [
    "present_data = {'courseOffered': 'Machine Learning with Deployment'}\n",
    "new_data = {\"$set\":{'courseOffered': 'ML and DL with Deployment'}}"
   ]
  },
  {
   "cell_type": "code",
   "execution_count": 62,
   "id": "d153b9aa",
   "metadata": {},
   "outputs": [
    {
     "data": {
      "text/plain": [
       "<pymongo.results.UpdateResult at 0x20ca34b8740>"
      ]
     },
     "execution_count": 62,
     "metadata": {},
     "output_type": "execute_result"
    }
   ],
   "source": [
    "products.update_one(present_data, new_data)"
   ]
  },
  {
   "cell_type": "code",
   "execution_count": 63,
   "id": "4fcd1ea3",
   "metadata": {},
   "outputs": [
    {
     "name": "stdout",
     "output_type": "stream",
     "text": [
      "{'_id': ObjectId('631c5e35b8501c1dad503cef'), 'companyName': 'iNeuron', 'product': 'Affordable AI', 'courseOffered': 'Deep Learning for Computer Vision'}\n",
      "\n",
      "{'_id': ObjectId('631c5f39b8501c1dad503cf0'), 'companyName': 'iNeuron', 'product': 'Affordable AI', 'courseOffered': 'ML and DL with Deployment'}\n",
      "\n",
      "{'_id': ObjectId('631c5f39b8501c1dad503cf1'), 'companyName': 'iNeuron', 'product': 'Affordable AI', 'courseOffered': 'Deep Learning for NLP and Computer vision'}\n",
      "\n",
      "{'_id': ObjectId('631c5f39b8501c1dad503cf2'), 'companyName': 'iNeuron', 'product': 'Master Program', 'courseOffered': 'Data Science Masters Program'}\n",
      "\n",
      "{'_id': ObjectId('631c61e0b8501c1dad503cf3'), 'companyName': 'iNeuron', 'product': 'Affordable AI'}\n",
      "\n",
      "{'_id': ObjectId('631c63c6b8501c1dad503cf4'), 'color': 'red', 'value': '#f00'}\n",
      "\n",
      "{'_id': ObjectId('631c63c6b8501c1dad503cf5'), 'color': 'green', 'value': '#0f0'}\n",
      "\n",
      "{'_id': ObjectId('631c63c6b8501c1dad503cf6'), 'color': 'blue', 'value': '#00f'}\n",
      "\n",
      "{'_id': ObjectId('631c63c6b8501c1dad503cf7'), 'color': 'cyan', 'value': '#0ff'}\n",
      "\n",
      "{'_id': ObjectId('631c63c6b8501c1dad503cf8'), 'color': 'magenta', 'value': '#f0f'}\n",
      "\n",
      "{'_id': ObjectId('631c63c6b8501c1dad503cf9'), 'color': 'yellow', 'value': '#ff0'}\n",
      "\n",
      "{'_id': ObjectId('631c63c6b8501c1dad503cfa'), 'color': 'black', 'value': '#000'}\n",
      "\n"
     ]
    }
   ],
   "source": [
    "all_record = products.find()\n",
    "\n",
    "for idx, record in enumerate(all_record):\n",
    "    print(f\"{record}\\n\")"
   ]
  },
  {
   "cell_type": "code",
   "execution_count": 64,
   "id": "e2d8675d",
   "metadata": {},
   "outputs": [],
   "source": [
    "present_data = {'companyName': 'iNeuron'}\n",
    "new_data = {\"$set\": {'companyName': 'iNeuron.ai'}}"
   ]
  },
  {
   "cell_type": "code",
   "execution_count": 65,
   "id": "aaad1be7",
   "metadata": {},
   "outputs": [
    {
     "name": "stdout",
     "output_type": "stream",
     "text": [
      "{'_id': ObjectId('631c5e35b8501c1dad503cef'), 'companyName': 'iNeuron.ai', 'product': 'Affordable AI', 'courseOffered': 'Deep Learning for Computer Vision'}\n",
      "\n",
      "{'_id': ObjectId('631c5f39b8501c1dad503cf0'), 'companyName': 'iNeuron.ai', 'product': 'Affordable AI', 'courseOffered': 'ML and DL with Deployment'}\n",
      "\n",
      "{'_id': ObjectId('631c5f39b8501c1dad503cf1'), 'companyName': 'iNeuron.ai', 'product': 'Affordable AI', 'courseOffered': 'Deep Learning for NLP and Computer vision'}\n",
      "\n",
      "{'_id': ObjectId('631c5f39b8501c1dad503cf2'), 'companyName': 'iNeuron.ai', 'product': 'Master Program', 'courseOffered': 'Data Science Masters Program'}\n",
      "\n",
      "{'_id': ObjectId('631c61e0b8501c1dad503cf3'), 'companyName': 'iNeuron.ai', 'product': 'Affordable AI'}\n",
      "\n",
      "{'_id': ObjectId('631c63c6b8501c1dad503cf4'), 'color': 'red', 'value': '#f00'}\n",
      "\n",
      "{'_id': ObjectId('631c63c6b8501c1dad503cf5'), 'color': 'green', 'value': '#0f0'}\n",
      "\n",
      "{'_id': ObjectId('631c63c6b8501c1dad503cf6'), 'color': 'blue', 'value': '#00f'}\n",
      "\n",
      "{'_id': ObjectId('631c63c6b8501c1dad503cf7'), 'color': 'cyan', 'value': '#0ff'}\n",
      "\n",
      "{'_id': ObjectId('631c63c6b8501c1dad503cf8'), 'color': 'magenta', 'value': '#f0f'}\n",
      "\n",
      "{'_id': ObjectId('631c63c6b8501c1dad503cf9'), 'color': 'yellow', 'value': '#ff0'}\n",
      "\n",
      "{'_id': ObjectId('631c63c6b8501c1dad503cfa'), 'color': 'black', 'value': '#000'}\n",
      "\n"
     ]
    }
   ],
   "source": [
    "products.update_many(present_data, new_data)\n",
    "\n",
    "all_record = products.find()\n",
    "\n",
    "for idx, record in enumerate(all_record):\n",
    "    print(f\"{record}\\n\")"
   ]
  },
  {
   "cell_type": "markdown",
   "id": "5e261983",
   "metadata": {},
   "source": [
    "# 9. Set limit to view N records"
   ]
  },
  {
   "cell_type": "code",
   "execution_count": 66,
   "id": "d307d6df",
   "metadata": {
    "scrolled": true
   },
   "outputs": [
    {
     "name": "stdout",
     "output_type": "stream",
     "text": [
      "{'_id': ObjectId('631c5e35b8501c1dad503cef'), 'companyName': 'iNeuron.ai', 'product': 'Affordable AI', 'courseOffered': 'Deep Learning for Computer Vision'}\n",
      "\n",
      "{'_id': ObjectId('631c5f39b8501c1dad503cf0'), 'companyName': 'iNeuron.ai', 'product': 'Affordable AI', 'courseOffered': 'ML and DL with Deployment'}\n",
      "\n",
      "{'_id': ObjectId('631c5f39b8501c1dad503cf1'), 'companyName': 'iNeuron.ai', 'product': 'Affordable AI', 'courseOffered': 'Deep Learning for NLP and Computer vision'}\n",
      "\n"
     ]
    }
   ],
   "source": [
    "N_records = 3\n",
    "\n",
    "N_record = products.find().limit(N_records)\n",
    "\n",
    "for idx, record in enumerate(N_record):\n",
    "    print(f\"{record}\\n\")"
   ]
  },
  {
   "cell_type": "code",
   "execution_count": null,
   "id": "758a1af4",
   "metadata": {},
   "outputs": [],
   "source": []
  }
 ],
 "metadata": {
  "kernelspec": {
   "display_name": "Python 3 (ipykernel)",
   "language": "python",
   "name": "python3"
  },
  "language_info": {
   "codemirror_mode": {
    "name": "ipython",
    "version": 3
   },
   "file_extension": ".py",
   "mimetype": "text/x-python",
   "name": "python",
   "nbconvert_exporter": "python",
   "pygments_lexer": "ipython3",
   "version": "3.9.7"
  }
 },
 "nbformat": 4,
 "nbformat_minor": 5
}
